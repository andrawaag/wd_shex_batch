{
 "cells": [
  {
   "cell_type": "code",
   "execution_count": 1,
   "id": "coupled-colleague",
   "metadata": {},
   "outputs": [],
   "source": [
    "import pprint\n",
    "import json\n",
    "import pandas as pd"
   ]
  },
  {
   "cell_type": "code",
   "execution_count": 6,
   "id": "patent-optimum",
   "metadata": {},
   "outputs": [],
   "source": [
    "f = open(\"disease_shex.json\")\n",
    "shex_results = json.load(f)\n",
    "df = pd.DataFrame(shex_results)"
   ]
  },
  {
   "cell_type": "code",
   "execution_count": 12,
   "id": "focal-checklist",
   "metadata": {},
   "outputs": [
    {
     "data": {
      "text/plain": [
       "True     9241\n",
       "False    3813\n",
       "Name: result, dtype: int64"
      ]
     },
     "execution_count": 12,
     "metadata": {},
     "output_type": "execute_result"
    }
   ],
   "source": [
    "df[\"result\"].value_counts()"
   ]
  },
  {
   "cell_type": "code",
   "execution_count": 7,
   "id": "registered-humor",
   "metadata": {},
   "outputs": [
    {
     "data": {
      "text/plain": [
       "<AxesSubplot:>"
      ]
     },
     "execution_count": 7,
     "metadata": {},
     "output_type": "execute_result"
    },
    {
     "data": {
      "image/png": "[encoded data removed]",
      "text/plain": [
       "<Figure size 432x288 with 1 Axes>"
      ]
     },
     "metadata": {
      "needs_background": "light"
     },
     "output_type": "display_data"
    }
   ],
   "source": [
    "df[\"result\"].value_counts().plot(kind='barh')"
   ]
  },
  {
   "cell_type": "code",
   "execution_count": 8,
   "id": "norman-truth",
   "metadata": {},
   "outputs": [],
   "source": [
    "r2 = []\n",
    "for index, row in df[df[\"result\"]==False].iterrows():\n",
    "    r = row[\"reason\"].split(\"\\n  Testing\")\n",
    "    for c in r:\n",
    "        r2.append(c.split(\"\\n\"))\n",
    "df2 = pd.DataFrame(r2).drop_duplicates()\n",
    "\n"
   ]
  },
  {
   "cell_type": "code",
   "execution_count": 9,
   "id": "pressed-health",
   "metadata": {},
   "outputs": [
    {
     "data": {
      "text/html": [
       "<div>\n",
       "<style scoped>\n",
       "    .dataframe tbody tr th:only-of-type {\n",
       "        vertical-align: middle;\n",
       "    }\n",
       "\n",
       "    .dataframe tbody tr th {\n",
       "        vertical-align: top;\n",
       "    }\n",
       "\n",
       "    .dataframe thead th {\n",
       "        text-align: right;\n",
       "    }\n",
       "</style>\n",
       "<table border=\"1\" class=\"dataframe\">\n",
       "  <thead>\n",
       "    <tr style=\"text-align: right;\">\n",
       "      <th></th>\n",
       "      <th>0</th>\n",
       "      <th>1</th>\n",
       "      <th>2</th>\n",
       "      <th>3</th>\n",
       "      <th>4</th>\n",
       "      <th>5</th>\n",
       "      <th>6</th>\n",
       "    </tr>\n",
       "  </thead>\n",
       "  <tbody>\n",
       "    <tr>\n",
       "      <th>0</th>\n",
       "      <td>Testing wd:Q36956 against shape #gene-wiki-d...</td>\n",
       "      <td>Testing s:Q36956-1E2367F1-AFF6-4C84-A142-D...</td>\n",
       "      <td>Testing wd:Q945238 against shape #gene-w...</td>\n",
       "      <td>No matching triples found for predi...</td>\n",
       "      <td>None</td>\n",
       "      <td>None</td>\n",
       "      <td>None</td>\n",
       "    </tr>\n",
       "    <tr>\n",
       "      <th>1</th>\n",
       "      <td>wd:Q36956 against shape #gene-wiki-disease-item</td>\n",
       "      <td>Testing s:Q36956-1E2367F1-AFF6-4C84-A142-D...</td>\n",
       "      <td>Testing wd:Q945238 against shape #gene-w...</td>\n",
       "      <td>No matching triples found for predi...</td>\n",
       "      <td>None</td>\n",
       "      <td>None</td>\n",
       "      <td>None</td>\n",
       "    </tr>\n",
       "    <tr>\n",
       "      <th>2</th>\n",
       "      <td>wd:Q36956 against shape #gene-wiki-disease-item</td>\n",
       "      <td>Testing s:Q36956-1E2367F1-AFF6-4C84-A142-D...</td>\n",
       "      <td>Node: wd:Q945238 not in value set:</td>\n",
       "      <td>\\t {\"values\": [\"http://www.wikidata.org/entity...</td>\n",
       "      <td>None</td>\n",
       "      <td>None</td>\n",
       "      <td>None</td>\n",
       "    </tr>\n",
       "    <tr>\n",
       "      <th>3</th>\n",
       "      <td>wd:Q36956 against shape #gene-wiki-disease-item</td>\n",
       "      <td>Testing s:Q36956-F0408C3B-401F-4C4A-AD48-D...</td>\n",
       "      <td>No matching triples found for predica...</td>\n",
       "      <td>None</td>\n",
       "      <td>None</td>\n",
       "      <td>None</td>\n",
       "      <td>None</td>\n",
       "    </tr>\n",
       "    <tr>\n",
       "      <th>4</th>\n",
       "      <td>wd:Q36956 against shape #gene-wiki-disease-item</td>\n",
       "      <td>Testing s:Q36956-145bcda4-4512-a5b4-0934-4...</td>\n",
       "      <td>Testing wd:Q929451 against shape #gene-w...</td>\n",
       "      <td>No matching triples found for predi...</td>\n",
       "      <td>None</td>\n",
       "      <td>None</td>\n",
       "      <td>None</td>\n",
       "    </tr>\n",
       "    <tr>\n",
       "      <th>...</th>\n",
       "      <td>...</td>\n",
       "      <td>...</td>\n",
       "      <td>...</td>\n",
       "      <td>...</td>\n",
       "      <td>...</td>\n",
       "      <td>...</td>\n",
       "      <td>...</td>\n",
       "    </tr>\n",
       "    <tr>\n",
       "      <th>36420</th>\n",
       "      <td>wd:Q6393662 against shape #gene-wiki-disease-...</td>\n",
       "      <td>Testing s:Q6393662-66D438A6-2EBF-4C93-B945...</td>\n",
       "      <td>Testing wd:Q523893 against shape #gene-w...</td>\n",
       "      <td>No matching triples found for predi...</td>\n",
       "      <td>None</td>\n",
       "      <td>None</td>\n",
       "      <td>None</td>\n",
       "    </tr>\n",
       "    <tr>\n",
       "      <th>36422</th>\n",
       "      <td>wd:Q6393662 against shape #gene-wiki-disease-...</td>\n",
       "      <td>Testing s:Q6393662-66D438A6-2EBF-4C93-B945...</td>\n",
       "      <td>Node: wd:Q523893 not in value set:</td>\n",
       "      <td>\\t {\"values\": [\"http://www.wikidata.org/entity...</td>\n",
       "      <td>None</td>\n",
       "      <td>None</td>\n",
       "      <td>None</td>\n",
       "    </tr>\n",
       "    <tr>\n",
       "      <th>36423</th>\n",
       "      <td>wd:Q6393662 against shape #gene-wiki-disease-...</td>\n",
       "      <td>Testing s:Q6393662-41eff3b6-4727-7d47-33b6...</td>\n",
       "      <td>Testing wd:Q1637035 against shape #gene-...</td>\n",
       "      <td>No matching triples found for predi...</td>\n",
       "      <td>None</td>\n",
       "      <td>None</td>\n",
       "      <td>None</td>\n",
       "    </tr>\n",
       "    <tr>\n",
       "      <th>36425</th>\n",
       "      <td>wd:Q6393662 against shape #gene-wiki-disease-...</td>\n",
       "      <td>Testing s:Q6393662-41eff3b6-4727-7d47-33b6...</td>\n",
       "      <td>Node: wd:Q1637035 not in value set:</td>\n",
       "      <td>\\t {\"values\": [\"http://www.wikidata.org/entity...</td>\n",
       "      <td>None</td>\n",
       "      <td>None</td>\n",
       "      <td>None</td>\n",
       "    </tr>\n",
       "    <tr>\n",
       "      <th>36426</th>\n",
       "      <td>wd:Q6393662 against shape #gene-wiki-disease-...</td>\n",
       "      <td>No matching triples found for predicate...</td>\n",
       "      <td>None</td>\n",
       "      <td>None</td>\n",
       "      <td>None</td>\n",
       "      <td>None</td>\n",
       "      <td>None</td>\n",
       "    </tr>\n",
       "  </tbody>\n",
       "</table>\n",
       "<p>26836 rows × 7 columns</p>\n",
       "</div>"
      ],
      "text/plain": [
       "                                                       0  \\\n",
       "0        Testing wd:Q36956 against shape #gene-wiki-d...   \n",
       "1        wd:Q36956 against shape #gene-wiki-disease-item   \n",
       "2        wd:Q36956 against shape #gene-wiki-disease-item   \n",
       "3        wd:Q36956 against shape #gene-wiki-disease-item   \n",
       "4        wd:Q36956 against shape #gene-wiki-disease-item   \n",
       "...                                                  ...   \n",
       "36420   wd:Q6393662 against shape #gene-wiki-disease-...   \n",
       "36422   wd:Q6393662 against shape #gene-wiki-disease-...   \n",
       "36423   wd:Q6393662 against shape #gene-wiki-disease-...   \n",
       "36425   wd:Q6393662 against shape #gene-wiki-disease-...   \n",
       "36426   wd:Q6393662 against shape #gene-wiki-disease-...   \n",
       "\n",
       "                                                       1  \\\n",
       "0          Testing s:Q36956-1E2367F1-AFF6-4C84-A142-D...   \n",
       "1          Testing s:Q36956-1E2367F1-AFF6-4C84-A142-D...   \n",
       "2          Testing s:Q36956-1E2367F1-AFF6-4C84-A142-D...   \n",
       "3          Testing s:Q36956-F0408C3B-401F-4C4A-AD48-D...   \n",
       "4          Testing s:Q36956-145bcda4-4512-a5b4-0934-4...   \n",
       "...                                                  ...   \n",
       "36420      Testing s:Q6393662-66D438A6-2EBF-4C93-B945...   \n",
       "36422      Testing s:Q6393662-66D438A6-2EBF-4C93-B945...   \n",
       "36423      Testing s:Q6393662-41eff3b6-4727-7d47-33b6...   \n",
       "36425      Testing s:Q6393662-41eff3b6-4727-7d47-33b6...   \n",
       "36426         No matching triples found for predicate...   \n",
       "\n",
       "                                                       2  \\\n",
       "0            Testing wd:Q945238 against shape #gene-w...   \n",
       "1            Testing wd:Q945238 against shape #gene-w...   \n",
       "2                     Node: wd:Q945238 not in value set:   \n",
       "3               No matching triples found for predica...   \n",
       "4            Testing wd:Q929451 against shape #gene-w...   \n",
       "...                                                  ...   \n",
       "36420        Testing wd:Q523893 against shape #gene-w...   \n",
       "36422                 Node: wd:Q523893 not in value set:   \n",
       "36423        Testing wd:Q1637035 against shape #gene-...   \n",
       "36425                Node: wd:Q1637035 not in value set:   \n",
       "36426                                               None   \n",
       "\n",
       "                                                       3     4     5     6  \n",
       "0                 No matching triples found for predi...  None  None  None  \n",
       "1                 No matching triples found for predi...  None  None  None  \n",
       "2      \\t {\"values\": [\"http://www.wikidata.org/entity...  None  None  None  \n",
       "3                                                   None  None  None  None  \n",
       "4                 No matching triples found for predi...  None  None  None  \n",
       "...                                                  ...   ...   ...   ...  \n",
       "36420             No matching triples found for predi...  None  None  None  \n",
       "36422  \\t {\"values\": [\"http://www.wikidata.org/entity...  None  None  None  \n",
       "36423             No matching triples found for predi...  None  None  None  \n",
       "36425  \\t {\"values\": [\"http://www.wikidata.org/entity...  None  None  None  \n",
       "36426                                               None  None  None  None  \n",
       "\n",
       "[26836 rows x 7 columns]"
      ]
     },
     "execution_count": 9,
     "metadata": {},
     "output_type": "execute_result"
    }
   ],
   "source": [
    "df2"
   ]
  },
  {
   "cell_type": "code",
   "execution_count": 10,
   "id": "dependent-cooperation",
   "metadata": {},
   "outputs": [
    {
     "ename": "NameError",
     "evalue": "name 'lengte' is not defined",
     "output_type": "error",
     "traceback": [
      "\u001b[0;31m---------------------------------------------------------------------------\u001b[0m",
      "\u001b[0;31mNameError\u001b[0m                                 Traceback (most recent call last)",
      "\u001b[0;32m<ipython-input-10-da2f34730b9e>\u001b[0m in \u001b[0;36m<module>\u001b[0;34m\u001b[0m\n\u001b[1;32m     11\u001b[0m                     \u001b[0merrors\u001b[0m\u001b[0;34m[\u001b[0m\u001b[0mqid\u001b[0m\u001b[0;34m]\u001b[0m\u001b[0;34m.\u001b[0m\u001b[0mappend\u001b[0m\u001b[0;34m(\u001b[0m\u001b[0mrow\u001b[0m\u001b[0;34m[\u001b[0m\u001b[0mi\u001b[0m\u001b[0;34m]\u001b[0m\u001b[0;34m.\u001b[0m\u001b[0mstrip\u001b[0m\u001b[0;34m(\u001b[0m\u001b[0;34m)\u001b[0m\u001b[0;34m)\u001b[0m\u001b[0;34m\u001b[0m\u001b[0;34m\u001b[0m\u001b[0m\n\u001b[1;32m     12\u001b[0m                 \u001b[0;32mbreak\u001b[0m\u001b[0;34m\u001b[0m\u001b[0;34m\u001b[0m\u001b[0m\n\u001b[0;32m---> 13\u001b[0;31m \u001b[0mprint\u001b[0m\u001b[0;34m(\u001b[0m\u001b[0mlen\u001b[0m\u001b[0;34m(\u001b[0m\u001b[0mlengte\u001b[0m\u001b[0;34m)\u001b[0m\u001b[0;34m)\u001b[0m\u001b[0;34m\u001b[0m\u001b[0;34m\u001b[0m\u001b[0m\n\u001b[0m",
      "\u001b[0;31mNameError\u001b[0m: name 'lengte' is not defined"
     ]
    }
   ],
   "source": [
    "errors = dict()\n",
    "for index, row in df2.iterrows():\n",
    "    if row[0].startswith(\"  Testing\"):\n",
    "        qid = row[0].replace(\" against shape #gene-wiki-disease-item\", \"\").replace(\"  Testing wd:\", \"\")\n",
    "        if qid not in errors.keys():\n",
    "            errors[qid] = []\n",
    "    for i in range(len(row)-1):\n",
    "        if i != len(row)-1:\n",
    "            if row[i+1] == None:\n",
    "                if row[i].strip() not in errors[qid]:\n",
    "                    errors[qid].append(row[i].strip())\n",
    "                break\n",
    "print(len(lengte))      "
   ]
  },
  {
   "cell_type": "code",
   "execution_count": 11,
   "id": "diagnostic-coverage",
   "metadata": {},
   "outputs": [
    {
     "data": {
      "text/plain": [
       "{'No matching triples found for predicate p:P2888': 3733,\n",
       " '{\"values\": [\"http://www.wikidata.org/entity/Q12136\"], \"type\"...': 3339,\n",
       " 'No matching triples found for predicate prov:wasDerivedFrom': 1569,\n",
       " '2 triples exceeds max {1,1}': 1903,\n",
       " '{\"values\": [\"http://www.wikidata.org/entity/Q5282129\"], \"typ...': 3,\n",
       " '{\"values\": [\"http://www.wikidata.org/entity/Q27468140\", \"htt...': 787,\n",
       " 'No matching triples found for predicate pr:P699': 786,\n",
       " '3 triples exceeds max {1,1}': 9,\n",
       " 'No matching triples found for predicate pr:P248': 1,\n",
       " 'No matching triples found for predicate pr:P5270': 1}"
      ]
     },
     "execution_count": 11,
     "metadata": {},
     "output_type": "execute_result"
    }
   ],
   "source": [
    "counts = dict()\n",
    "for qid in errors.keys():\n",
    "    for error in errors[qid]:\n",
    "        if error not in counts.keys():\n",
    "            counts[error] = 0\n",
    "        counts[error]+=1\n",
    "counts"
   ]
  },
  {
   "cell_type": "code",
   "execution_count": 174,
   "id": "express-advantage",
   "metadata": {},
   "outputs": [
    {
     "name": "stdout",
     "output_type": "stream",
     "text": [
      "('  Testing wd:Q12135 against shape #gene-wiki-disease-item\\n'\n",
      " '    Testing s:Q12135-09ad8697-4e33-3086-adc0-d05ca1725b18 against shape '\n",
      " '#P279_subclassof\\n'\n",
      " '      Testing wd:Q12136 against shape #gene-wiki-disease-item\\n'\n",
      " '           No matching triples found for predicate p:P2888\\n'\n",
      " '  Testing wd:Q12135 against shape #gene-wiki-disease-item\\n'\n",
      " '    Testing s:Q12135-09ad8697-4e33-3086-adc0-d05ca1725b18 against shape '\n",
      " '#P279_subclassof\\n'\n",
      " '      Testing wd:Q12136 against shape #gene-wiki-disease-item\\n'\n",
      " '           No matching triples found for predicate p:P2888\\n'\n",
      " '  Testing wd:Q12135 against shape #gene-wiki-disease-item\\n'\n",
      " '    Testing s:Q12135-09ad8697-4e33-3086-adc0-d05ca1725b18 against shape '\n",
      " '#P279_subclassof\\n'\n",
      " '      Testing wd:Q12136 against shape N075a9b3ae3204a6eaff89e8a9e5e7806\\n'\n",
      " '           No matching triples found for predicate ps:P279\\n'\n",
      " '  Testing wd:Q12135 against shape #gene-wiki-disease-item\\n'\n",
      " '    Triples:\\n'\n",
      " '      wd:Q12135 p:P699 s:Q12135-5251CD64-15DA-4CF5-8B26-D59859D32C5F .\\n'\n",
      " '      wd:Q12135 p:P699 s:Q12135-DDD25A09-18BB-4D72-B8D7-092F80C079A8 .\\n'\n",
      " '   2 triples exceeds max {1,1}\\n'\n",
      " '  Testing wd:Q12135 against shape #gene-wiki-disease-item\\n'\n",
      " '    Triples:\\n'\n",
      " '      wd:Q12135 p:P699 s:Q12135-5251CD64-15DA-4CF5-8B26-D59859D32C5F .\\n'\n",
      " '      wd:Q12135 p:P699 s:Q12135-DDD25A09-18BB-4D72-B8D7-092F80C079A8 .\\n'\n",
      " '   2 triples exceeds max {1,1}\\n'\n",
      " '  Testing wd:Q12135 against shape #gene-wiki-disease-item\\n'\n",
      " '    Triples:\\n'\n",
      " '      wd:Q12135 p:P699 s:Q12135-5251CD64-15DA-4CF5-8B26-D59859D32C5F .\\n'\n",
      " '      wd:Q12135 p:P699 s:Q12135-DDD25A09-18BB-4D72-B8D7-092F80C079A8 .\\n'\n",
      " '   2 triples exceeds max {1,1}\\n'\n",
      " '  Testing wd:Q12135 against shape #gene-wiki-disease-item\\n'\n",
      " '    Triples:\\n'\n",
      " '      wd:Q12135 p:P699 s:Q12135-5251CD64-15DA-4CF5-8B26-D59859D32C5F .\\n'\n",
      " '      wd:Q12135 p:P699 s:Q12135-DDD25A09-18BB-4D72-B8D7-092F80C079A8 .\\n'\n",
      " '   2 triples exceeds max {1,1}\\n'\n",
      " '  Testing wd:Q12135 against shape #gene-wiki-disease-item\\n'\n",
      " '    Triples:\\n'\n",
      " '      wd:Q12135 p:P699 s:Q12135-5251CD64-15DA-4CF5-8B26-D59859D32C5F .\\n'\n",
      " '      wd:Q12135 p:P699 s:Q12135-DDD25A09-18BB-4D72-B8D7-092F80C079A8 .\\n'\n",
      " '   2 triples exceeds max {1,1}\\n'\n",
      " '  Testing wd:Q12135 against shape #gene-wiki-disease-item\\n'\n",
      " '    Triples:\\n'\n",
      " '      wd:Q12135 p:P699 s:Q12135-5251CD64-15DA-4CF5-8B26-D59859D32C5F .\\n'\n",
      " '      wd:Q12135 p:P699 s:Q12135-DDD25A09-18BB-4D72-B8D7-092F80C079A8 .\\n'\n",
      " '   2 triples exceeds max {1,1}\\n'\n",
      " '  Testing wd:Q12135 against shape #gene-wiki-disease-item\\n'\n",
      " '    Triples:\\n'\n",
      " '      wd:Q12135 p:P699 s:Q12135-5251CD64-15DA-4CF5-8B26-D59859D32C5F .\\n'\n",
      " '      wd:Q12135 p:P699 s:Q12135-DDD25A09-18BB-4D72-B8D7-092F80C079A8 .\\n'\n",
      " '   2 triples exceeds max {1,1}\\n'\n",
      " '  Testing wd:Q12135 against shape #gene-wiki-disease-item\\n'\n",
      " '    Triples:\\n'\n",
      " '      wd:Q12135 p:P699 s:Q12135-5251CD64-15DA-4CF5-8B26-D59859D32C5F .\\n'\n",
      " '      wd:Q12135 p:P699 s:Q12135-DDD25A09-18BB-4D72-B8D7-092F80C079A8 .\\n'\n",
      " '   2 triples exceeds max {1,1}\\n'\n",
      " '  Testing wd:Q12135 against shape #gene-wiki-disease-item\\n'\n",
      " '    Triples:\\n'\n",
      " '      wd:Q12135 p:P699 s:Q12135-5251CD64-15DA-4CF5-8B26-D59859D32C5F .\\n'\n",
      " '      wd:Q12135 p:P699 s:Q12135-DDD25A09-18BB-4D72-B8D7-092F80C079A8 .\\n'\n",
      " '   2 triples exceeds max {1,1}\\n'\n",
      " '  Testing wd:Q12135 against shape #gene-wiki-disease-item\\n'\n",
      " '    Triples:\\n'\n",
      " '      wd:Q12135 p:P699 s:Q12135-5251CD64-15DA-4CF5-8B26-D59859D32C5F .\\n'\n",
      " '      wd:Q12135 p:P699 s:Q12135-DDD25A09-18BB-4D72-B8D7-092F80C079A8 .\\n'\n",
      " '   2 triples exceeds max {1,1}\\n'\n",
      " '  Testing wd:Q12135 against shape #gene-wiki-disease-item\\n'\n",
      " '    Triples:\\n'\n",
      " '      wd:Q12135 p:P699 s:Q12135-5251CD64-15DA-4CF5-8B26-D59859D32C5F .\\n'\n",
      " '      wd:Q12135 p:P699 s:Q12135-DDD25A09-18BB-4D72-B8D7-092F80C079A8 .\\n'\n",
      " '   2 triples exceeds max {1,1}\\n'\n",
      " '  Testing wd:Q12135 against shape #gene-wiki-disease-item\\n'\n",
      " '    Triples:\\n'\n",
      " '      wd:Q12135 p:P699 s:Q12135-5251CD64-15DA-4CF5-8B26-D59859D32C5F .\\n'\n",
      " '      wd:Q12135 p:P699 s:Q12135-DDD25A09-18BB-4D72-B8D7-092F80C079A8 .\\n'\n",
      " '   2 triples exceeds max {1,1}\\n'\n",
      " '  Testing wd:Q12135 against shape #gene-wiki-disease-item\\n'\n",
      " '    Triples:\\n'\n",
      " '      wd:Q12135 p:P699 s:Q12135-5251CD64-15DA-4CF5-8B26-D59859D32C5F .\\n'\n",
      " '      wd:Q12135 p:P699 s:Q12135-DDD25A09-18BB-4D72-B8D7-092F80C079A8 .\\n'\n",
      " '   2 triples exceeds max {1,1}\\n'\n",
      " '  Testing wd:Q12135 against shape #gene-wiki-disease-item\\n'\n",
      " '    Triples:\\n'\n",
      " '      wd:Q12135 p:P699 s:Q12135-5251CD64-15DA-4CF5-8B26-D59859D32C5F .\\n'\n",
      " '      wd:Q12135 p:P699 s:Q12135-DDD25A09-18BB-4D72-B8D7-092F80C079A8 .\\n'\n",
      " '   2 triples exceeds max {1,1}\\n'\n",
      " '  Testing wd:Q12135 against shape #gene-wiki-disease-item\\n'\n",
      " '    Triples:\\n'\n",
      " '      wd:Q12135 p:P699 s:Q12135-5251CD64-15DA-4CF5-8B26-D59859D32C5F .\\n'\n",
      " '      wd:Q12135 p:P699 s:Q12135-DDD25A09-18BB-4D72-B8D7-092F80C079A8 .\\n'\n",
      " '   2 triples exceeds max {1,1}\\n'\n",
      " '  Testing wd:Q12135 against shape #gene-wiki-disease-item\\n'\n",
      " '       No matching triples found for predicate p:P2888')\n"
     ]
    }
   ],
   "source": [
    "pprint.pprint(shex_results[0][\"reason\"])"
   ]
  },
  {
   "cell_type": "code",
   "execution_count": null,
   "id": "willing-train",
   "metadata": {},
   "outputs": [],
   "source": []
  }
 ],
 "metadata": {
  "kernelspec": {
   "display_name": "Python 3",
   "language": "python",
   "name": "python3"
  },
  "language_info": {
   "codemirror_mode": {
    "name": "ipython",
    "version": 3
   },
   "file_extension": ".py",
   "mimetype": "text/x-python",
   "name": "python",
   "nbconvert_exporter": "python",
   "pygments_lexer": "ipython3",
   "version": "3.9.0"
  }
 },
 "nbformat": 4,
 "nbformat_minor": 5
}
